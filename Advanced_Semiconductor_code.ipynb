{
  "nbformat": 4,
  "nbformat_minor": 0,
  "metadata": {
    "colab": {
      "provenance": []
    },
    "kernelspec": {
      "name": "python3",
      "display_name": "Python 3"
    },
    "language_info": {
      "name": "python"
    }
  },
  "cells": [
    {
      "cell_type": "code",
      "execution_count": null,
      "metadata": {
        "id": "nugDiUBjRY9s"
      },
      "outputs": [],
      "source": [
        "import numpy as np\n",
        "import pandas as pd"
      ]
    },
    {
      "cell_type": "code",
      "source": [
        "X_train =pd.read_csv(\"uci_train.csv\")\n",
        "X_test  =pd.read_csv(\"uci_test.csv\")"
      ],
      "metadata": {
        "id": "P0UDZcF-Sjwk"
      },
      "execution_count": null,
      "outputs": []
    },
    {
      "cell_type": "code",
      "source": [
        "X_train"
      ],
      "metadata": {
        "id": "XXZe2EaW2vEU"
      },
      "execution_count": null,
      "outputs": []
    },
    {
      "cell_type": "code",
      "source": [
        "X_train.columns"
      ],
      "metadata": {
        "id": "uXhZKCW-J_n2"
      },
      "execution_count": null,
      "outputs": []
    },
    {
      "cell_type": "code",
      "source": [
        "X_test"
      ],
      "metadata": {
        "id": "k1waKfOLInKR"
      },
      "execution_count": null,
      "outputs": []
    },
    {
      "cell_type": "code",
      "source": [
        "import matplotlib.pyplot as plt\n",
        "import seaborn as sb\n",
        "fn=lambda x:x.split('-')[1]\n",
        "X_train['Month']=X_train['Time'].map(fn)\n",
        "X_test['Month']=X_test['Time'].map(fn)\n",
        "\n",
        "sb.catplot(x=\"Month\",hue=\"Target\",data=X_train,kind='count')\n",
        "plt.show()\n",
        "\n",
        "\n",
        "plt.figure(figsize=(20,10))\n",
        "sb.scatterplot(x=X_train.index,y=X_train['1'],hue=X_train['Target'])\n",
        "sb.scatterplot(x=X_train.index,y=X_train['3'],hue=X_train['Target'])\n",
        "sb.scatterplot(x=X_train.index,y=X_train['11'],hue=X_train['Target'])"
      ],
      "metadata": {
        "id": "AwcELwi64Xo1"
      },
      "execution_count": null,
      "outputs": []
    },
    {
      "cell_type": "code",
      "source": [],
      "metadata": {
        "id": "uysGVd9hdKpo"
      },
      "execution_count": null,
      "outputs": []
    },
    {
      "cell_type": "code",
      "source": [
        "y = X_train['Target']\n",
        "y\n",
        "X_train.drop(columns = \"Target\",inplace =True)"
      ],
      "metadata": {
        "id": "wgkztwyK4EQV"
      },
      "execution_count": null,
      "outputs": []
    },
    {
      "cell_type": "code",
      "source": [
        "from sklearn.impute import SimpleImputer\n",
        "imp_mean = SimpleImputer(missing_values=np.nan, strategy='mean')\n",
        "X_train.iloc[:,1:]=imp_mean.fit_transform(X_train.iloc[:,1:])\n"
      ],
      "metadata": {
        "id": "3aBUWmqXS5S2"
      },
      "execution_count": null,
      "outputs": []
    },
    {
      "cell_type": "code",
      "source": [
        "Y_test= X_test[\"Target\"]\n",
        "Y_test\n",
        "X_test = X_test.iloc[: , :-1]\n",
        "X_test.iloc[:,1:]=imp_mean.transform(X_test.iloc[:,1:])"
      ],
      "metadata": {
        "id": "ZNiixI5429eL"
      },
      "execution_count": null,
      "outputs": []
    },
    {
      "cell_type": "code",
      "source": [
        "Y_test"
      ],
      "metadata": {
        "id": "-Zm32KUYLyk8"
      },
      "execution_count": null,
      "outputs": []
    },
    {
      "cell_type": "code",
      "source": [
        "import matplotlib.pyplot as plt\n",
        "\n",
        "import seaborn as sb"
      ],
      "metadata": {
        "id": "A2wAvDI0VEoa"
      },
      "execution_count": null,
      "outputs": []
    },
    {
      "cell_type": "code",
      "source": [
        "X_train.columns"
      ],
      "metadata": {
        "id": "884qUDlSX68d"
      },
      "execution_count": null,
      "outputs": []
    },
    {
      "cell_type": "code",
      "source": [
        "X_train.isnull().any()"
      ],
      "metadata": {
        "id": "GJu8GfF6Z6qV"
      },
      "execution_count": null,
      "outputs": []
    },
    {
      "cell_type": "code",
      "source": [
        "pd.tools.plotting.scatter_matrix(X_train.loc[:, \"2\":\"6\"], diagonal=\"kde\")\n",
        "plt.tight_layout()\n",
        "plt.show()\n"
      ],
      "metadata": {
        "id": "Eh2OTcJYd6NX"
      },
      "execution_count": null,
      "outputs": []
    },
    {
      "cell_type": "code",
      "source": [
        "columns=X_train.columns\n",
        "drop_col=[]\n",
        "for i in columns:\n",
        "  if(len(X_train[i].unique())==1):\n",
        "    drop_col.append(i)"
      ],
      "metadata": {
        "id": "YBBasWrjnO3y"
      },
      "execution_count": null,
      "outputs": []
    },
    {
      "cell_type": "code",
      "source": [],
      "metadata": {
        "id": "Mlh7DHvrrlkL"
      },
      "execution_count": null,
      "outputs": []
    },
    {
      "cell_type": "code",
      "source": [
        "X_train.drop(columns=drop_col,inplace=True)\n",
        "X_test.drop(columns=drop_col,inplace=True)"
      ],
      "metadata": {
        "id": "eAPfgk9cfIXz"
      },
      "execution_count": null,
      "outputs": []
    },
    {
      "cell_type": "code",
      "source": [
        "X_train.columns"
      ],
      "metadata": {
        "id": "PIRnByX_gPww"
      },
      "execution_count": null,
      "outputs": []
    },
    {
      "cell_type": "code",
      "source": [
        "X_train.drop(columns= \"Time\", inplace = True)\n",
        "X_test.drop(columns= \"Time\", inplace = True)"
      ],
      "metadata": {
        "id": "dmZhg7nSkz59"
      },
      "execution_count": null,
      "outputs": []
    },
    {
      "cell_type": "code",
      "source": [
        "Xcolumns=X_train.columns"
      ],
      "metadata": {
        "id": "dKMHhgapFteC"
      },
      "execution_count": null,
      "outputs": []
    },
    {
      "cell_type": "code",
      "source": [
        "from sklearn.preprocessing import StandardScaler\n",
        "sc_x = StandardScaler()\n",
        "X_train = sc_x.fit_transform(X_train)\n",
        "X_train=pd.DataFrame(X_train,columns=Xcolumns)\n",
        "X_test = sc_x.transform(X_test)\n",
        "X_test=pd.DataFrame(X_test,columns=Xcolumns)"
      ],
      "metadata": {
        "id": "uIfrm8PuFNfu"
      },
      "execution_count": null,
      "outputs": []
    },
    {
      "cell_type": "code",
      "source": [
        "from sklearn.model_selection import train_test_split"
      ],
      "metadata": {
        "id": "JPOzg8XylcAm"
      },
      "execution_count": null,
      "outputs": []
    },
    {
      "cell_type": "code",
      "source": [
        "xtrain, xtest, ytrain, ytest = train_test_split(\n",
        "        X_train, y, test_size = 0.25)"
      ],
      "metadata": {
        "id": "3PcKCu-9lkp2"
      },
      "execution_count": null,
      "outputs": []
    },
    {
      "cell_type": "code",
      "source": [
        "from sklearn.linear_model import LogisticRegression\n",
        "classifier = LogisticRegression(max_iter=250,C=0.1)\n",
        "classifier.fit(X_train, y)"
      ],
      "metadata": {
        "id": "vWQ9E4voltq1"
      },
      "execution_count": null,
      "outputs": []
    },
    {
      "cell_type": "code",
      "source": [
        "y_pred = classifier.predict(X_test)"
      ],
      "metadata": {
        "id": "0VLZrBIpnOIm"
      },
      "execution_count": null,
      "outputs": []
    },
    {
      "cell_type": "code",
      "source": [
        "#y_testing=pd.read_csv('y_test.csv')"
      ],
      "metadata": {
        "id": "5YWLMK9DPPdB"
      },
      "execution_count": null,
      "outputs": []
    },
    {
      "cell_type": "code",
      "source": [
        "y_train_pred = classifier.predict(X_train)"
      ],
      "metadata": {
        "id": "ACPARm8hTtf1"
      },
      "execution_count": null,
      "outputs": []
    },
    {
      "cell_type": "code",
      "source": [
        "from sklearn.metrics import accuracy_score,precision_score,recall_score,f1_score\n",
        "print (\"Accuracy Score : \", accuracy_score(y_train_pred, y))\n",
        "print(\"Precision Score : \",precision_score(y_train_pred, y))\n",
        "print(\"Recall Score : \",recall_score(y_train_pred, y))\n",
        "print(\"F1 Score : \",f1_score(y_train_pred, y))"
      ],
      "metadata": {
        "id": "SfpAT8PjT39g"
      },
      "execution_count": null,
      "outputs": []
    },
    {
      "cell_type": "code",
      "source": [
        "from sklearn.metrics import confusion_matrix\n",
        "cm = confusion_matrix(Y_test, y_pred)\n",
        "\n",
        "print (\"Confusion Matrix : \\n\", cm)"
      ],
      "metadata": {
        "id": "K_6lG-tOnXIm"
      },
      "execution_count": null,
      "outputs": []
    },
    {
      "cell_type": "code",
      "source": [
        "from sklearn.metrics import accuracy_score,precision_score,recall_score,f1_score\n",
        "print (\"Accuracy : \", accuracy_score(Y_test, y_pred))"
      ],
      "metadata": {
        "id": "dfMs-VvZnhfM"
      },
      "execution_count": null,
      "outputs": []
    },
    {
      "cell_type": "code",
      "source": [],
      "metadata": {
        "id": "QMXt_S6Hz5Jh"
      },
      "execution_count": null,
      "outputs": []
    },
    {
      "cell_type": "code",
      "source": [
        "from sklearn.model_selection import GridSearchCV"
      ],
      "metadata": {
        "id": "DpjU45jlPS3h"
      },
      "execution_count": null,
      "outputs": []
    },
    {
      "cell_type": "code",
      "source": [],
      "metadata": {
        "id": "8NOdt6w_JQQs"
      },
      "execution_count": null,
      "outputs": []
    },
    {
      "cell_type": "code",
      "source": [
        "from sklearn.ensemble import RandomForestClassifier"
      ],
      "metadata": {
        "id": "PBHTxSpA13hU"
      },
      "execution_count": null,
      "outputs": []
    },
    {
      "cell_type": "code",
      "source": [
        "rf_clf = RandomForestClassifier(n_estimators = 100)\n",
        "rf_clf.fit(xtrain, ytrain)"
      ],
      "metadata": {
        "id": "eW6dF__-2OgD"
      },
      "execution_count": null,
      "outputs": []
    },
    {
      "cell_type": "code",
      "source": [
        "fimp={'f_name':[],'f_imp':[]}\n",
        "for feature, importance in zip(X_train.columns, rf_clf.feature_importances_):\n",
        "    fimp['f_name'].append(feature)\n",
        "    fimp['f_imp'].append(importance)"
      ],
      "metadata": {
        "id": "_IcE7Fod_nxU"
      },
      "execution_count": null,
      "outputs": []
    },
    {
      "cell_type": "code",
      "source": [
        "fimp=pd.DataFrame.from_dict(fimp)\n",
        "fimp.sort_values(by=['f_imp'],ascending=[0],inplace=True)"
      ],
      "metadata": {
        "id": "3EmM2gT4Bs_8"
      },
      "execution_count": null,
      "outputs": []
    },
    {
      "cell_type": "code",
      "source": [
        "not_imp_feature=fimp[fimp['f_imp']==0].f_name.values"
      ],
      "metadata": {
        "id": "32NAdMd2DO97"
      },
      "execution_count": null,
      "outputs": []
    },
    {
      "cell_type": "code",
      "source": [
        "extracted_X_train=X_train.drop(columns=not_imp_feature)"
      ],
      "metadata": {
        "id": "EXXoHOV2DqzD"
      },
      "execution_count": null,
      "outputs": []
    },
    {
      "cell_type": "code",
      "source": [
        "extracted_X_test=X_test.drop(columns=not_imp_feature)"
      ],
      "metadata": {
        "id": "leFb6L3c6Ci0"
      },
      "execution_count": null,
      "outputs": []
    },
    {
      "cell_type": "code",
      "source": [
        "extracted_X_test.dtypes\n",
        "\n"
      ],
      "metadata": {
        "id": "5Tm0vO75MM21"
      },
      "execution_count": null,
      "outputs": []
    },
    {
      "cell_type": "code",
      "source": [
        "xtrain, xtest, ytrain, ytest = train_test_split(\n",
        "        extracted_X_train, y, test_size = 0.3, random_state = 24)"
      ],
      "metadata": {
        "id": "DIJ0sZDl_czc"
      },
      "execution_count": null,
      "outputs": []
    },
    {
      "cell_type": "code",
      "source": [
        "y.dtypes"
      ],
      "metadata": {
        "id": "ntbL7EMoNT-H"
      },
      "execution_count": null,
      "outputs": []
    },
    {
      "cell_type": "code",
      "source": [
        "param_grid = {'C': [0.1,0.5],\n",
        "              'max_iter':[500,1000],\n",
        "              'solver':['liblinear'],\n",
        "              'penalty':['l2']\n",
        "              }"
      ],
      "metadata": {
        "id": "AdoUZZw-JnqK"
      },
      "execution_count": null,
      "outputs": []
    },
    {
      "cell_type": "code",
      "source": [
        "plt.figure(figsize=(10,10))\n",
        "#sb.scatterplot(x=y,y=extracted_X_test['X10'],hue=y)\n",
        "sb.kdeplot(data=extracted_X_test,x='2', hue=y,fill=True)"
      ],
      "metadata": {
        "id": "lhLF0B5gNX5b"
      },
      "execution_count": null,
      "outputs": []
    },
    {
      "cell_type": "code",
      "source": [
        "sb.barplot(data=extracted_X_test,x='15', hue=y,fill=True)"
      ],
      "metadata": {
        "id": "QgysD5IL7pSV"
      },
      "execution_count": null,
      "outputs": []
    },
    {
      "cell_type": "code",
      "source": [
        "logreg_cv = GridSearchCV(classifier, param_grid, cv = 5)\n",
        "logreg_cv.fit(xtrain,ytrain)"
      ],
      "metadata": {
        "id": "Q1IcHVHnJrjC"
      },
      "execution_count": null,
      "outputs": []
    },
    {
      "cell_type": "code",
      "source": [
        "logreg_cv.best_params_"
      ],
      "metadata": {
        "id": "69ihrSj0Lfif"
      },
      "execution_count": null,
      "outputs": []
    },
    {
      "cell_type": "code",
      "source": [
        "final_model=logreg_cv.best_estimator_"
      ],
      "metadata": {
        "id": "KMkVkW9LKd5P"
      },
      "execution_count": null,
      "outputs": []
    },
    {
      "cell_type": "code",
      "source": [
        "rf_y_pred=final_model.predict(extracted_X_test)"
      ],
      "metadata": {
        "id": "ML7W0LXPP5iJ"
      },
      "execution_count": null,
      "outputs": []
    },
    {
      "cell_type": "code",
      "source": [
        "\n",
        "from sklearn.metrics import accuracy_score,precision_score,recall_score,f1_score\n",
        "\n",
        "print (\"Accuracy : \", accuracy_score(Y_test, rf_y_pred))\n",
        "print(precision_score(Y_test,rf_y_pred))\n",
        "print(recall_score(Y_test,rf_y_pred))\n",
        "print(f1_score(Y_test,rf_y_pred))"
      ],
      "metadata": {
        "id": "9EMDbBR0QYQJ"
      },
      "execution_count": null,
      "outputs": []
    },
    {
      "cell_type": "code",
      "source": [
        "rf_clf = RandomForestClassifier(n_estimators = 100)\n",
        "rf_clf.fit(extracted_X_train, y)"
      ],
      "metadata": {
        "id": "0MSvJLEnRLYg"
      },
      "execution_count": null,
      "outputs": []
    },
    {
      "cell_type": "code",
      "source": [],
      "metadata": {
        "id": "ueQfbkKlJgdn"
      },
      "execution_count": null,
      "outputs": []
    }
  ]
}